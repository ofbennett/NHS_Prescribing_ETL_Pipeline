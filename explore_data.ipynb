{
 "cells": [
  {
   "cell_type": "markdown",
   "metadata": {},
   "source": [
    "# Data Exploration Notebook - GP Prescribing Data"
   ]
  },
  {
   "cell_type": "code",
   "execution_count": 1,
   "metadata": {},
   "outputs": [],
   "source": [
    "import pandas as pd\n",
    "import json\n",
    "import numpy as np"
   ]
  },
  {
   "cell_type": "markdown",
   "metadata": {},
   "source": [
    "### Define paths and read in data - Only looking at a single month's worth of data here (Nov 2019)"
   ]
  },
  {
   "cell_type": "code",
   "execution_count": 2,
   "metadata": {},
   "outputs": [
    {
     "name": "stderr",
     "output_type": "stream",
     "text": [
      "/Users/oscarbennett/anaconda/envs/DEND1/lib/python3.7/site-packages/IPython/core/interactiveshell.py:3063: DtypeWarning: Columns (9,11,13) have mixed types. Specify dtype option on import or set low_memory=False.\n",
      "  interactivity=interactivity, compiler=compiler, result=result)\n"
     ]
    }
   ],
   "source": [
    "data_path_pres = \"./data/2019_11_Nov/T201911PDPI BNFT.csv\"\n",
    "data_path_chem = \"./data/2019_11_Nov/T201911CHEM SUBS.csv\"\n",
    "data_path_gp_pracs = \"./data/2019_11_Nov/T201911ADDR BNFT.csv\"\n",
    "data_path_postcodes = \"./data/2019_11_Nov/postcode_info.json\"\n",
    "data_path_bnf = \"./data/20200201_1580570906919_BNF_Code_Information.csv\"\n",
    "df_pres = pd.read_csv(data_path_pres)\n",
    "df_chem = pd.read_csv(data_path_chem)\n",
    "col_names = ['time_period','gp_prac_id','addr1','addr2','addr3','addr4','addr5','postcode']\n",
    "df_gp_pracs = pd.read_csv(data_path_gp_pracs, names = col_names)\n",
    "df_bnf = pd.read_csv(data_path_bnf)"
   ]
  },
  {
   "cell_type": "code",
   "execution_count": 3,
   "metadata": {},
   "outputs": [],
   "source": [
    "with open(data_path_postcodes) as f:\n",
    "    postcode_info = json.load(f)"
   ]
  },
  {
   "cell_type": "markdown",
   "metadata": {},
   "source": [
    "# Prescription Data"
   ]
  },
  {
   "cell_type": "code",
   "execution_count": 4,
   "metadata": {},
   "outputs": [
    {
     "data": {
      "text/html": [
       "<div>\n",
       "<style scoped>\n",
       "    .dataframe tbody tr th:only-of-type {\n",
       "        vertical-align: middle;\n",
       "    }\n",
       "\n",
       "    .dataframe tbody tr th {\n",
       "        vertical-align: top;\n",
       "    }\n",
       "\n",
       "    .dataframe thead th {\n",
       "        text-align: right;\n",
       "    }\n",
       "</style>\n",
       "<table border=\"1\" class=\"dataframe\">\n",
       "  <thead>\n",
       "    <tr style=\"text-align: right;\">\n",
       "      <th></th>\n",
       "      <th>SHA</th>\n",
       "      <th>PCT</th>\n",
       "      <th>PRACTICE</th>\n",
       "      <th>BNF CODE</th>\n",
       "      <th>BNF NAME</th>\n",
       "      <th>ITEMS</th>\n",
       "      <th>NIC</th>\n",
       "      <th>ACT COST</th>\n",
       "      <th>QUANTITY</th>\n",
       "      <th>PERIOD</th>\n",
       "    </tr>\n",
       "  </thead>\n",
       "  <tbody>\n",
       "    <tr>\n",
       "      <th>0</th>\n",
       "      <td>Q44</td>\n",
       "      <td>01C</td>\n",
       "      <td>N81002</td>\n",
       "      <td>0101010G0AAABAB</td>\n",
       "      <td>Co-Magaldrox_Susp 195mg/220mg/5ml S/F</td>\n",
       "      <td>1</td>\n",
       "      <td>2.99</td>\n",
       "      <td>2.79</td>\n",
       "      <td>500.0</td>\n",
       "      <td>201911</td>\n",
       "    </tr>\n",
       "    <tr>\n",
       "      <th>1</th>\n",
       "      <td>Q44</td>\n",
       "      <td>01C</td>\n",
       "      <td>N81002</td>\n",
       "      <td>0101010G0BCABAB</td>\n",
       "      <td>Mucogel_Susp 195mg/220mg/5ml S/F</td>\n",
       "      <td>1</td>\n",
       "      <td>2.99</td>\n",
       "      <td>2.79</td>\n",
       "      <td>500.0</td>\n",
       "      <td>201911</td>\n",
       "    </tr>\n",
       "    <tr>\n",
       "      <th>2</th>\n",
       "      <td>Q44</td>\n",
       "      <td>01C</td>\n",
       "      <td>N81002</td>\n",
       "      <td>0101012B0AAAPAP</td>\n",
       "      <td>Sod Bicarb_(S)</td>\n",
       "      <td>1</td>\n",
       "      <td>2.23</td>\n",
       "      <td>2.08</td>\n",
       "      <td>300.0</td>\n",
       "      <td>201911</td>\n",
       "    </tr>\n",
       "    <tr>\n",
       "      <th>3</th>\n",
       "      <td>Q44</td>\n",
       "      <td>01C</td>\n",
       "      <td>N81002</td>\n",
       "      <td>010102100BBABAB</td>\n",
       "      <td>Rennie Deflatine_Tab</td>\n",
       "      <td>1</td>\n",
       "      <td>2.51</td>\n",
       "      <td>2.35</td>\n",
       "      <td>18.0</td>\n",
       "      <td>201911</td>\n",
       "    </tr>\n",
       "    <tr>\n",
       "      <th>4</th>\n",
       "      <td>Q44</td>\n",
       "      <td>01C</td>\n",
       "      <td>N81002</td>\n",
       "      <td>0101021B0AAALAL</td>\n",
       "      <td>Sod Algin/Pot Bicarb_Susp S/F</td>\n",
       "      <td>11</td>\n",
       "      <td>64.51</td>\n",
       "      <td>60.19</td>\n",
       "      <td>6300.0</td>\n",
       "      <td>201911</td>\n",
       "    </tr>\n",
       "  </tbody>\n",
       "</table>\n",
       "</div>"
      ],
      "text/plain": [
       "   SHA  PCT PRACTICE         BNF CODE                               BNF NAME  \\\n",
       "0  Q44  01C   N81002  0101010G0AAABAB  Co-Magaldrox_Susp 195mg/220mg/5ml S/F   \n",
       "1  Q44  01C   N81002  0101010G0BCABAB       Mucogel_Susp 195mg/220mg/5ml S/F   \n",
       "2  Q44  01C   N81002  0101012B0AAAPAP                         Sod Bicarb_(S)   \n",
       "3  Q44  01C   N81002  010102100BBABAB                   Rennie Deflatine_Tab   \n",
       "4  Q44  01C   N81002  0101021B0AAALAL          Sod Algin/Pot Bicarb_Susp S/F   \n",
       "\n",
       "   ITEMS    NIC  ACT COST  QUANTITY  PERIOD  \n",
       "0      1   2.99      2.79     500.0  201911  \n",
       "1      1   2.99      2.79     500.0  201911  \n",
       "2      1   2.23      2.08     300.0  201911  \n",
       "3      1   2.51      2.35      18.0  201911  \n",
       "4     11  64.51     60.19    6300.0  201911  "
      ]
     },
     "execution_count": 4,
     "metadata": {},
     "output_type": "execute_result"
    }
   ],
   "source": [
    "df_pres.head()"
   ]
  },
  {
   "cell_type": "code",
   "execution_count": 5,
   "metadata": {},
   "outputs": [
    {
     "name": "stdout",
     "output_type": "stream",
     "text": [
      "<class 'pandas.core.frame.DataFrame'>\n",
      "RangeIndex: 9420606 entries, 0 to 9420605\n",
      "Data columns (total 10 columns):\n",
      "SHA         9420606 non-null object\n",
      "PCT         9420606 non-null object\n",
      "PRACTICE    9420606 non-null object\n",
      "BNF CODE    9420606 non-null object\n",
      "BNF NAME    9420606 non-null object\n",
      "ITEMS       9420606 non-null int64\n",
      "NIC         9420606 non-null float64\n",
      "ACT COST    9420606 non-null float64\n",
      "QUANTITY    9420606 non-null float64\n",
      "PERIOD      9420606 non-null int64\n",
      "dtypes: float64(3), int64(2), object(5)\n",
      "memory usage: 718.7+ MB\n"
     ]
    }
   ],
   "source": [
    "df_pres.info(null_counts=True)"
   ]
  },
  {
   "cell_type": "code",
   "execution_count": 6,
   "metadata": {},
   "outputs": [
    {
     "data": {
      "text/plain": [
       "0"
      ]
     },
     "execution_count": 6,
     "metadata": {},
     "output_type": "execute_result"
    }
   ],
   "source": [
    "len(df_pres)-len(df_pres.drop_duplicates())"
   ]
  },
  {
   "cell_type": "markdown",
   "metadata": {},
   "source": [
    "## Prescription Data Conclusion:\n",
    "### Columns as shown. No null values or duplicate rows. Lots of interesting a useful columns here."
   ]
  },
  {
   "cell_type": "markdown",
   "metadata": {},
   "source": [
    "# Chemical Substance Data"
   ]
  },
  {
   "cell_type": "code",
   "execution_count": 7,
   "metadata": {
    "scrolled": true
   },
   "outputs": [
    {
     "data": {
      "text/html": [
       "<div>\n",
       "<style scoped>\n",
       "    .dataframe tbody tr th:only-of-type {\n",
       "        vertical-align: middle;\n",
       "    }\n",
       "\n",
       "    .dataframe tbody tr th {\n",
       "        vertical-align: top;\n",
       "    }\n",
       "\n",
       "    .dataframe thead th {\n",
       "        text-align: right;\n",
       "    }\n",
       "</style>\n",
       "<table border=\"1\" class=\"dataframe\">\n",
       "  <thead>\n",
       "    <tr style=\"text-align: right;\">\n",
       "      <th></th>\n",
       "      <th>CHEM SUB</th>\n",
       "      <th>NAME</th>\n",
       "      <th>201911</th>\n",
       "    </tr>\n",
       "  </thead>\n",
       "  <tbody>\n",
       "    <tr>\n",
       "      <th>0</th>\n",
       "      <td>010101000</td>\n",
       "      <td>Other Antacid &amp; Simeticone Preps</td>\n",
       "      <td>NaN</td>\n",
       "    </tr>\n",
       "    <tr>\n",
       "      <th>1</th>\n",
       "      <td>0101010A0</td>\n",
       "      <td>Alexitol Sodium</td>\n",
       "      <td>NaN</td>\n",
       "    </tr>\n",
       "    <tr>\n",
       "      <th>2</th>\n",
       "      <td>0101010B0</td>\n",
       "      <td>Almasilate</td>\n",
       "      <td>NaN</td>\n",
       "    </tr>\n",
       "    <tr>\n",
       "      <th>3</th>\n",
       "      <td>0101010C0</td>\n",
       "      <td>Aluminium Hydroxide</td>\n",
       "      <td>NaN</td>\n",
       "    </tr>\n",
       "    <tr>\n",
       "      <th>4</th>\n",
       "      <td>0101010D0</td>\n",
       "      <td>Aluminium Hydroxide With Magnesium</td>\n",
       "      <td>NaN</td>\n",
       "    </tr>\n",
       "  </tbody>\n",
       "</table>\n",
       "</div>"
      ],
      "text/plain": [
       "    CHEM SUB                                NAME  201911\n",
       "0  010101000    Other Antacid & Simeticone Preps     NaN\n",
       "1  0101010A0                     Alexitol Sodium     NaN\n",
       "2  0101010B0                          Almasilate     NaN\n",
       "3  0101010C0                 Aluminium Hydroxide     NaN\n",
       "4  0101010D0  Aluminium Hydroxide With Magnesium     NaN"
      ]
     },
     "execution_count": 7,
     "metadata": {},
     "output_type": "execute_result"
    }
   ],
   "source": [
    "df_chem.head()"
   ]
  },
  {
   "cell_type": "code",
   "execution_count": 8,
   "metadata": {},
   "outputs": [],
   "source": [
    "df_chem.drop(columns=['201911'],inplace=True)"
   ]
  },
  {
   "cell_type": "code",
   "execution_count": 9,
   "metadata": {
    "scrolled": true
   },
   "outputs": [
    {
     "name": "stdout",
     "output_type": "stream",
     "text": [
      "<class 'pandas.core.frame.DataFrame'>\n",
      "RangeIndex: 3509 entries, 0 to 3508\n",
      "Data columns (total 2 columns):\n",
      "CHEM SUB    3509 non-null object\n",
      "NAME        3509 non-null object\n",
      "dtypes: object(2)\n",
      "memory usage: 55.0+ KB\n"
     ]
    }
   ],
   "source": [
    "df_chem.info(null_counts=True)"
   ]
  },
  {
   "cell_type": "code",
   "execution_count": 10,
   "metadata": {},
   "outputs": [
    {
     "data": {
      "text/plain": [
       "0"
      ]
     },
     "execution_count": 10,
     "metadata": {},
     "output_type": "execute_result"
    }
   ],
   "source": [
    "len(df_chem)-len(df_chem.drop_duplicates())"
   ]
  },
  {
   "cell_type": "markdown",
   "metadata": {},
   "source": [
    "## Chemical Substance Data Conclusion:\n",
    "### Columns as shown. No null values or duplicate rows. Probably won't use this, as the BNF Dataset (below) contains this info already."
   ]
  },
  {
   "cell_type": "markdown",
   "metadata": {},
   "source": [
    "# GP Practice Data"
   ]
  },
  {
   "cell_type": "code",
   "execution_count": 11,
   "metadata": {},
   "outputs": [
    {
     "data": {
      "text/html": [
       "<div>\n",
       "<style scoped>\n",
       "    .dataframe tbody tr th:only-of-type {\n",
       "        vertical-align: middle;\n",
       "    }\n",
       "\n",
       "    .dataframe tbody tr th {\n",
       "        vertical-align: top;\n",
       "    }\n",
       "\n",
       "    .dataframe thead th {\n",
       "        text-align: right;\n",
       "    }\n",
       "</style>\n",
       "<table border=\"1\" class=\"dataframe\">\n",
       "  <thead>\n",
       "    <tr style=\"text-align: right;\">\n",
       "      <th></th>\n",
       "      <th>time_period</th>\n",
       "      <th>gp_prac_id</th>\n",
       "      <th>addr1</th>\n",
       "      <th>addr2</th>\n",
       "      <th>addr3</th>\n",
       "      <th>addr4</th>\n",
       "      <th>addr5</th>\n",
       "      <th>postcode</th>\n",
       "    </tr>\n",
       "  </thead>\n",
       "  <tbody>\n",
       "    <tr>\n",
       "      <th>0</th>\n",
       "      <td>201911</td>\n",
       "      <td>E82603</td>\n",
       "      <td>CASSIO SURGERY</td>\n",
       "      <td>1ST FLOOR COLNE HOUSE</td>\n",
       "      <td>21 UPTON ROAD</td>\n",
       "      <td>WATFORD</td>\n",
       "      <td>HERTFORDSHIRE</td>\n",
       "      <td>WD18 0JP</td>\n",
       "    </tr>\n",
       "    <tr>\n",
       "      <th>1</th>\n",
       "      <td>201911</td>\n",
       "      <td>E82641</td>\n",
       "      <td>MANOR HOUSE SURGERY</td>\n",
       "      <td>MANOR HOUSE SURGERY</td>\n",
       "      <td>EMPERORS GATE</td>\n",
       "      <td>CHELLS MANOR  STEVENAGE</td>\n",
       "      <td>HERTFORDSHIRE</td>\n",
       "      <td>SG2 7QX</td>\n",
       "    </tr>\n",
       "    <tr>\n",
       "      <th>2</th>\n",
       "      <td>201911</td>\n",
       "      <td>E83039</td>\n",
       "      <td>RAVENSCROFT MEDICAL CENTRE</td>\n",
       "      <td>RAVENSCROFT MEDICAL CTR</td>\n",
       "      <td>166-168 GOLDERS GREEN RD</td>\n",
       "      <td>GOLDERS GREEN</td>\n",
       "      <td>LONDON</td>\n",
       "      <td>NW11 8BB</td>\n",
       "    </tr>\n",
       "    <tr>\n",
       "      <th>3</th>\n",
       "      <td>201911</td>\n",
       "      <td>E83046</td>\n",
       "      <td>MULBERRY MEDICAL PRACTICE</td>\n",
       "      <td>3 SEFTON AVENUE</td>\n",
       "      <td>NaN</td>\n",
       "      <td>MILL HILL</td>\n",
       "      <td>LONDON</td>\n",
       "      <td>NW7 3QB</td>\n",
       "    </tr>\n",
       "    <tr>\n",
       "      <th>4</th>\n",
       "      <td>201911</td>\n",
       "      <td>E84020</td>\n",
       "      <td>JAI MEDICAL CENTRE (BRENT)</td>\n",
       "      <td>82 STAG LANE</td>\n",
       "      <td>EDGWARE</td>\n",
       "      <td>MIDDLESEX</td>\n",
       "      <td>NaN</td>\n",
       "      <td>HA8 5LP</td>\n",
       "    </tr>\n",
       "  </tbody>\n",
       "</table>\n",
       "</div>"
      ],
      "text/plain": [
       "   time_period gp_prac_id                       addr1  \\\n",
       "0       201911     E82603              CASSIO SURGERY   \n",
       "1       201911     E82641         MANOR HOUSE SURGERY   \n",
       "2       201911     E83039  RAVENSCROFT MEDICAL CENTRE   \n",
       "3       201911     E83046   MULBERRY MEDICAL PRACTICE   \n",
       "4       201911     E84020  JAI MEDICAL CENTRE (BRENT)   \n",
       "\n",
       "                     addr2                     addr3                    addr4  \\\n",
       "0    1ST FLOOR COLNE HOUSE             21 UPTON ROAD                  WATFORD   \n",
       "1      MANOR HOUSE SURGERY             EMPERORS GATE  CHELLS MANOR  STEVENAGE   \n",
       "2  RAVENSCROFT MEDICAL CTR  166-168 GOLDERS GREEN RD            GOLDERS GREEN   \n",
       "3          3 SEFTON AVENUE                       NaN                MILL HILL   \n",
       "4             82 STAG LANE                   EDGWARE                MIDDLESEX   \n",
       "\n",
       "           addr5  postcode  \n",
       "0  HERTFORDSHIRE  WD18 0JP  \n",
       "1  HERTFORDSHIRE   SG2 7QX  \n",
       "2         LONDON  NW11 8BB  \n",
       "3         LONDON   NW7 3QB  \n",
       "4            NaN   HA8 5LP  "
      ]
     },
     "execution_count": 11,
     "metadata": {},
     "output_type": "execute_result"
    }
   ],
   "source": [
    "df_gp_pracs.head()"
   ]
  },
  {
   "cell_type": "code",
   "execution_count": 12,
   "metadata": {},
   "outputs": [
    {
     "name": "stdout",
     "output_type": "stream",
     "text": [
      "<class 'pandas.core.frame.DataFrame'>\n",
      "RangeIndex: 9337 entries, 0 to 9336\n",
      "Data columns (total 8 columns):\n",
      "time_period    9337 non-null int64\n",
      "gp_prac_id     9337 non-null object\n",
      "addr1          9337 non-null object\n",
      "addr2          9336 non-null object\n",
      "addr3          8673 non-null object\n",
      "addr4          8999 non-null object\n",
      "addr5          7454 non-null object\n",
      "postcode       9336 non-null object\n",
      "dtypes: int64(1), object(7)\n",
      "memory usage: 583.7+ KB\n"
     ]
    }
   ],
   "source": [
    "df_gp_pracs.info(null_counts=True)"
   ]
  },
  {
   "cell_type": "code",
   "execution_count": 13,
   "metadata": {
    "scrolled": true
   },
   "outputs": [
    {
     "data": {
      "text/plain": [
       "0"
      ]
     },
     "execution_count": 13,
     "metadata": {},
     "output_type": "execute_result"
    }
   ],
   "source": [
    "len(df_gp_pracs)-len(df_gp_pracs.drop_duplicates())"
   ]
  },
  {
   "cell_type": "markdown",
   "metadata": {},
   "source": [
    "## GP Practice Data Conclusion:\n",
    "### Columns as shown. 'addr1' can probably be used as the practices' names. Quite a few of the addr fields are missing presumably due to addresses having differing lengths. Postcodes are almost all non-null (one odd exception which I will look at below). Will probably only keep 'gp_prac_id', 'addr1' and 'postcode'."
   ]
  },
  {
   "cell_type": "markdown",
   "metadata": {},
   "source": [
    "# BNF Info Data"
   ]
  },
  {
   "cell_type": "code",
   "execution_count": 14,
   "metadata": {
    "scrolled": true
   },
   "outputs": [
    {
     "data": {
      "text/html": [
       "<div>\n",
       "<style scoped>\n",
       "    .dataframe tbody tr th:only-of-type {\n",
       "        vertical-align: middle;\n",
       "    }\n",
       "\n",
       "    .dataframe tbody tr th {\n",
       "        vertical-align: top;\n",
       "    }\n",
       "\n",
       "    .dataframe thead th {\n",
       "        text-align: right;\n",
       "    }\n",
       "</style>\n",
       "<table border=\"1\" class=\"dataframe\">\n",
       "  <thead>\n",
       "    <tr style=\"text-align: right;\">\n",
       "      <th></th>\n",
       "      <th>BNF Chapter</th>\n",
       "      <th>BNF Chapter Code</th>\n",
       "      <th>BNF Section</th>\n",
       "      <th>BNF Section Code</th>\n",
       "      <th>BNF Paragraph</th>\n",
       "      <th>BNF Paragraph Code</th>\n",
       "      <th>BNF Subparagraph</th>\n",
       "      <th>BNF Subparagraph Code</th>\n",
       "      <th>BNF Chemical Substance</th>\n",
       "      <th>BNF Chemical Substance Code</th>\n",
       "      <th>BNF Product</th>\n",
       "      <th>BNF Product Code</th>\n",
       "      <th>BNF Presentation</th>\n",
       "      <th>BNF Presentation Code</th>\n",
       "    </tr>\n",
       "  </thead>\n",
       "  <tbody>\n",
       "    <tr>\n",
       "      <th>0</th>\n",
       "      <td>Gastro-Intestinal System</td>\n",
       "      <td>1</td>\n",
       "      <td>Dyspep&amp;Gastro-Oesophageal Reflux Disease</td>\n",
       "      <td>101</td>\n",
       "      <td>Antacids and Simeticone</td>\n",
       "      <td>10101</td>\n",
       "      <td>Antacids and Simeticone</td>\n",
       "      <td>101010</td>\n",
       "      <td>Other Antacid &amp; Simeticone Preps</td>\n",
       "      <td>010101000</td>\n",
       "      <td>Proprietary Co Prepn Bnf 0101010</td>\n",
       "      <td>010101000BB</td>\n",
       "      <td>Langdales_Cinnamon Tab</td>\n",
       "      <td>010101000BBABA0</td>\n",
       "    </tr>\n",
       "    <tr>\n",
       "      <th>1</th>\n",
       "      <td>Gastro-Intestinal System</td>\n",
       "      <td>1</td>\n",
       "      <td>Dyspep&amp;Gastro-Oesophageal Reflux Disease</td>\n",
       "      <td>101</td>\n",
       "      <td>Antacids and Simeticone</td>\n",
       "      <td>10101</td>\n",
       "      <td>Antacids and Simeticone</td>\n",
       "      <td>101010</td>\n",
       "      <td>Other Antacid &amp; Simeticone Preps</td>\n",
       "      <td>010101000</td>\n",
       "      <td>Proprietary Co Prepn Bnf 0101010</td>\n",
       "      <td>010101000BB</td>\n",
       "      <td>Mylanta 11_Tab</td>\n",
       "      <td>010101000BBADA0</td>\n",
       "    </tr>\n",
       "    <tr>\n",
       "      <th>2</th>\n",
       "      <td>Gastro-Intestinal System</td>\n",
       "      <td>1</td>\n",
       "      <td>Dyspep&amp;Gastro-Oesophageal Reflux Disease</td>\n",
       "      <td>101</td>\n",
       "      <td>Antacids and Simeticone</td>\n",
       "      <td>10101</td>\n",
       "      <td>Antacids and Simeticone</td>\n",
       "      <td>101010</td>\n",
       "      <td>Other Antacid &amp; Simeticone Preps</td>\n",
       "      <td>010101000</td>\n",
       "      <td>Proprietary Co Prepn Bnf 0101010</td>\n",
       "      <td>010101000BB</td>\n",
       "      <td>Mylanta 11_Liq</td>\n",
       "      <td>010101000BBAEA0</td>\n",
       "    </tr>\n",
       "    <tr>\n",
       "      <th>3</th>\n",
       "      <td>Gastro-Intestinal System</td>\n",
       "      <td>1</td>\n",
       "      <td>Dyspep&amp;Gastro-Oesophageal Reflux Disease</td>\n",
       "      <td>101</td>\n",
       "      <td>Antacids and Simeticone</td>\n",
       "      <td>10101</td>\n",
       "      <td>Antacids and Simeticone</td>\n",
       "      <td>101010</td>\n",
       "      <td>Other Antacid &amp; Simeticone Preps</td>\n",
       "      <td>010101000</td>\n",
       "      <td>Proprietary Co Prepn Bnf 0101010</td>\n",
       "      <td>010101000BB</td>\n",
       "      <td>Rennie Plus_Tab</td>\n",
       "      <td>010101000BBAFA0</td>\n",
       "    </tr>\n",
       "    <tr>\n",
       "      <th>4</th>\n",
       "      <td>Gastro-Intestinal System</td>\n",
       "      <td>1</td>\n",
       "      <td>Dyspep&amp;Gastro-Oesophageal Reflux Disease</td>\n",
       "      <td>101</td>\n",
       "      <td>Antacids and Simeticone</td>\n",
       "      <td>10101</td>\n",
       "      <td>Antacids and Simeticone</td>\n",
       "      <td>101010</td>\n",
       "      <td>Other Antacid &amp; Simeticone Preps</td>\n",
       "      <td>010101000</td>\n",
       "      <td>Proprietary Co Prepn Bnf 0101010</td>\n",
       "      <td>010101000BB</td>\n",
       "      <td>Sab Simplex_Susp</td>\n",
       "      <td>010101000BBAIA0</td>\n",
       "    </tr>\n",
       "  </tbody>\n",
       "</table>\n",
       "</div>"
      ],
      "text/plain": [
       "                BNF Chapter  BNF Chapter Code  \\\n",
       "0  Gastro-Intestinal System                 1   \n",
       "1  Gastro-Intestinal System                 1   \n",
       "2  Gastro-Intestinal System                 1   \n",
       "3  Gastro-Intestinal System                 1   \n",
       "4  Gastro-Intestinal System                 1   \n",
       "\n",
       "                                BNF Section  BNF Section Code  \\\n",
       "0  Dyspep&Gastro-Oesophageal Reflux Disease               101   \n",
       "1  Dyspep&Gastro-Oesophageal Reflux Disease               101   \n",
       "2  Dyspep&Gastro-Oesophageal Reflux Disease               101   \n",
       "3  Dyspep&Gastro-Oesophageal Reflux Disease               101   \n",
       "4  Dyspep&Gastro-Oesophageal Reflux Disease               101   \n",
       "\n",
       "             BNF Paragraph  BNF Paragraph Code         BNF Subparagraph  \\\n",
       "0  Antacids and Simeticone               10101  Antacids and Simeticone   \n",
       "1  Antacids and Simeticone               10101  Antacids and Simeticone   \n",
       "2  Antacids and Simeticone               10101  Antacids and Simeticone   \n",
       "3  Antacids and Simeticone               10101  Antacids and Simeticone   \n",
       "4  Antacids and Simeticone               10101  Antacids and Simeticone   \n",
       "\n",
       "   BNF Subparagraph Code            BNF Chemical Substance  \\\n",
       "0                 101010  Other Antacid & Simeticone Preps   \n",
       "1                 101010  Other Antacid & Simeticone Preps   \n",
       "2                 101010  Other Antacid & Simeticone Preps   \n",
       "3                 101010  Other Antacid & Simeticone Preps   \n",
       "4                 101010  Other Antacid & Simeticone Preps   \n",
       "\n",
       "  BNF Chemical Substance Code                       BNF Product  \\\n",
       "0                   010101000  Proprietary Co Prepn Bnf 0101010   \n",
       "1                   010101000  Proprietary Co Prepn Bnf 0101010   \n",
       "2                   010101000  Proprietary Co Prepn Bnf 0101010   \n",
       "3                   010101000  Proprietary Co Prepn Bnf 0101010   \n",
       "4                   010101000  Proprietary Co Prepn Bnf 0101010   \n",
       "\n",
       "  BNF Product Code        BNF Presentation BNF Presentation Code  \n",
       "0      010101000BB  Langdales_Cinnamon Tab       010101000BBABA0  \n",
       "1      010101000BB          Mylanta 11_Tab       010101000BBADA0  \n",
       "2      010101000BB          Mylanta 11_Liq       010101000BBAEA0  \n",
       "3      010101000BB         Rennie Plus_Tab       010101000BBAFA0  \n",
       "4      010101000BB        Sab Simplex_Susp       010101000BBAIA0  "
      ]
     },
     "execution_count": 14,
     "metadata": {},
     "output_type": "execute_result"
    }
   ],
   "source": [
    "df_bnf.head()"
   ]
  },
  {
   "cell_type": "code",
   "execution_count": 15,
   "metadata": {},
   "outputs": [
    {
     "name": "stdout",
     "output_type": "stream",
     "text": [
      "<class 'pandas.core.frame.DataFrame'>\n",
      "RangeIndex: 81655 entries, 0 to 81654\n",
      "Data columns (total 14 columns):\n",
      "BNF Chapter                    81655 non-null object\n",
      "BNF Chapter Code               81655 non-null int64\n",
      "BNF Section                    81655 non-null object\n",
      "BNF Section Code               81655 non-null int64\n",
      "BNF Paragraph                  81655 non-null object\n",
      "BNF Paragraph Code             81655 non-null int64\n",
      "BNF Subparagraph               81655 non-null object\n",
      "BNF Subparagraph Code          81655 non-null int64\n",
      "BNF Chemical Substance         81655 non-null object\n",
      "BNF Chemical Substance Code    81655 non-null object\n",
      "BNF Product                    81655 non-null object\n",
      "BNF Product Code               81655 non-null object\n",
      "BNF Presentation               81655 non-null object\n",
      "BNF Presentation Code          81655 non-null object\n",
      "dtypes: int64(4), object(10)\n",
      "memory usage: 8.7+ MB\n"
     ]
    }
   ],
   "source": [
    "df_bnf.info(null_counts=True)"
   ]
  },
  {
   "cell_type": "code",
   "execution_count": 16,
   "metadata": {},
   "outputs": [
    {
     "data": {
      "text/plain": [
       "0"
      ]
     },
     "execution_count": 16,
     "metadata": {},
     "output_type": "execute_result"
    }
   ],
   "source": [
    "len(df_bnf)-len(df_bnf.drop_duplicates())"
   ]
  },
  {
   "cell_type": "code",
   "execution_count": 17,
   "metadata": {},
   "outputs": [
    {
     "name": "stdout",
     "output_type": "stream",
     "text": [
      "BNF Chapter\n",
      "0 / 81655\n",
      "BNF Section\n",
      "0 / 81655\n",
      "BNF Paragraph\n",
      "25763 / 81655\n",
      "BNF Subparagraph\n",
      "25763 / 81655\n",
      "BNF Chemical Substance\n",
      "25763 / 81655\n",
      "BNF Chemical Substance Code\n",
      "0 / 81655\n",
      "BNF Product\n",
      "25763 / 81655\n",
      "BNF Product Code\n",
      "0 / 81655\n",
      "BNF Presentation\n",
      "0 / 81655\n",
      "BNF Presentation Code\n",
      "0 / 81655\n"
     ]
    }
   ],
   "source": [
    "match_word = \"DUMMY\"\n",
    "\n",
    "total = len(df_bnf)\n",
    "for col in df_bnf.columns:\n",
    "    if df_bnf[col].dtype == np.object:\n",
    "        print(col)\n",
    "        match_count = len(df_bnf[col][df_bnf[col].str.contains(match_word, na=False)])\n",
    "        print(match_count,'/',total)"
   ]
  },
  {
   "cell_type": "code",
   "execution_count": 18,
   "metadata": {},
   "outputs": [
    {
     "data": {
      "text/plain": [
       "array(['Gastro-Intestinal System', 'Cardiovascular System',\n",
       "       'Respiratory System', 'Central Nervous System', 'Infections',\n",
       "       'Endocrine System', 'Obstetrics,Gynae+Urinary Tract Disorders',\n",
       "       'Malignant Disease & Immunosuppression', 'Nutrition And Blood',\n",
       "       'Musculoskeletal & Joint Diseases', 'Eye',\n",
       "       'Ear, Nose And Oropharynx', 'Skin',\n",
       "       'Immunological Products & Vaccines', 'Anaesthesia',\n",
       "       'Preparations used in Diagnosis', 'Other Drugs And Preparations',\n",
       "       'Dressings', 'Appliances', 'Incontinence Appliances',\n",
       "       'Stoma Appliances'], dtype=object)"
      ]
     },
     "execution_count": 18,
     "metadata": {},
     "output_type": "execute_result"
    }
   ],
   "source": [
    "df_bnf['BNF Chapter'].unique()"
   ]
  },
  {
   "cell_type": "code",
   "execution_count": 19,
   "metadata": {},
   "outputs": [
    {
     "data": {
      "text/plain": [
       "array(['Dyspep&Gastro-Oesophageal Reflux Disease',\n",
       "       'Antispasmod.&Other Drgs Alt.Gut Motility',\n",
       "       'Antisecretory Drugs+Mucosal Protectants', 'Acute Diarrhoea',\n",
       "       'Chronic Bowel Disorders', 'Laxatives',\n",
       "       'Local Prepn for Anal & Rectal Disorders', 'Stoma Care',\n",
       "       'Drugs Affecting Intestinal Secretions',\n",
       "       'Positive Inotropic Drugs', 'Diuretics', 'Anti-Arrhythmic Drugs',\n",
       "       'Beta-Adrenoceptor Blocking Drugs',\n",
       "       'Hypertension and Heart Failure',\n",
       "       'Nit,Calc Block & Other Antianginal Drugs', 'Sympathomimetics',\n",
       "       'Anticoagulants And Protamine', 'Antiplatelet Drugs',\n",
       "       'Stable Angina, Acute/Crnry Synd&Fibrin',\n",
       "       'Antifibrinolytic Drugs & Haemostatics', 'Lipid-Regulating Drugs',\n",
       "       'Local Sclerosants', 'Bronchodilators',\n",
       "       'Corticosteroids (Respiratory)',\n",
       "       'Cromoglycate,Rel,Leukotriene Antagonists',\n",
       "       'Antihist, Hyposensit & Allergic Emergen',\n",
       "       'Resp Stimulants & Pulmonary Surfactants', 'Oxygen', 'Mucolytics',\n",
       "       'Aromatic Inhalations', 'Cough Preparations',\n",
       "       'Systemic Nasal Decongestants', 'Antifibrotics',\n",
       "       'Hypnotics And Anxiolytics',\n",
       "       'Drugs Used In Psychoses & Rel.Disorders', 'Antidepressant Drugs',\n",
       "       'CNS Stimulants and drugs used for ADHD', 'Obesity',\n",
       "       'Drugs Used In Nausea And Vertigo', 'Analgesics',\n",
       "       'Antiepileptic Drugs', \"Drugs Used In Park'ism/Related Disorders\",\n",
       "       'Drugs Used In Substance Dependence', 'Dementia',\n",
       "       'Antibacterial Drugs', 'Antifungal Drugs', 'Antiviral Drugs',\n",
       "       'Antiprotozoal Drugs', 'Anthelmintics', 'Drugs Used In Diabetes',\n",
       "       'Thyroid And Antithyroid Drugs', 'Corticosteroids (Endocrine)',\n",
       "       'Sex Hormones', 'Hypothalamic&Pituitary Hormones&Antioest',\n",
       "       'Drugs Affecting Bone Metabolism', 'Other Endocrine Drugs',\n",
       "       'Drugs Used In Obstetrics',\n",
       "       'Treatment Of Vaginal & Vulval Conditions', 'Contraceptives',\n",
       "       'Drugs For Genito-Urinary Disorders', 'Cytotoxic Drugs',\n",
       "       'Drugs Affecting The Immune Response',\n",
       "       'Sex Hormones & Antag In Malig Disease',\n",
       "       'Anaemias + Other Blood Disorders', 'Fluids And Electrolytes',\n",
       "       'Intravenous Nutrition', 'Oral Nutrition', 'Minerals', 'Vitamins',\n",
       "       'Bitters And Tonics', 'Metabolic Disorders', 'Foods',\n",
       "       'Compound Vit/Mineral Formulations', 'Health Supplements',\n",
       "       'Other Health Supplements',\n",
       "       'Drugs Used In Rheumatic Diseases & Gout',\n",
       "       'Drugs Used In Neuromuscular  Disorders',\n",
       "       'Soft-Tissue Disorders & Topical Pain Rel',\n",
       "       'Anti-Infective Eye Preparations',\n",
       "       \"Corti'roids & Other Anti-Inflamm.Preps.\",\n",
       "       'Mydriatics And Cycloplegics', 'Treatment Of Glaucoma',\n",
       "       'Local Anaesthetics', 'Miscellaneous Ophthalmic Preparations',\n",
       "       'Contact Lenses', 'Drugs Acting On The Ear',\n",
       "       'Drugs Acting On The Nose', 'Drugs Acting On The Oropharynx',\n",
       "       'Management of Skin Conditions',\n",
       "       'Emollient & Barrier Preparations',\n",
       "       'Top Local Anaesthetics & Antipruritics',\n",
       "       'Topical Corticosteroids', 'Preparations For Eczema And Psoriasis',\n",
       "       'Acne and Rosacea', 'Preparations For Warts And Calluses',\n",
       "       'Sunscreens And Camouflagers',\n",
       "       'Shampoo&Other Preps For Scalp&Hair Cond',\n",
       "       'Anti-Infective Skin Preparations',\n",
       "       'Skin Cleansers,Antiseptics & Desloughing', 'Antiperspirants',\n",
       "       'Wound Management Products', 'Topical Circulatory Preparations',\n",
       "       'Miscellaneous Topical Preparations', 'Diagnostic Vaccines',\n",
       "       'Vaccines And Antisera', 'Immunoglobulins', 'General Anaesthesia',\n",
       "       'Local Anaesthesia', 'Urine Testing Reagents',\n",
       "       'X-Ray Contrast Media', 'Diagnostic Agents',\n",
       "       'Special Sanction Reagents', 'Alcohol, Wines & Spirits',\n",
       "       'Selective Preparations', 'Adjuncts To Dispensing',\n",
       "       'Single Substances', 'Other Preparations', 'Acids',\n",
       "       'Base/Dil/Susp Agents/Stabilisers',\n",
       "       'Colouring,Flavouring & Sweetening Agents',\n",
       "       'Disinfectants,Preserv&Sterilising Agents', 'Polysorbates & Tween',\n",
       "       'Lubricating Jellies/Pessaries', 'Electrode/Ultrasonic Gels',\n",
       "       'Cordials/Soft Drinks', 'Waters', 'Other Gases',\n",
       "       'Absorbent Cottons', 'Arm Sling/Bandages',\n",
       "       'Wound Management & Other Dressings', 'Gauzes & Gauze Tissue',\n",
       "       'Tracheostomy & Laryngectomy Appliances', 'Foam', 'Lints',\n",
       "       'Plasters', 'Stockinette', 'Surgical Adhesive Tape',\n",
       "       'Surgical Sutures', 'Swabs', 'Unspecified Dressing',\n",
       "       'Skin Closure Strips, Sterile', 'Skin Adhesive, Sterile',\n",
       "       'Tapeless Holders', 'Cervical Collar', 'Cellulose Wadding BP 1988',\n",
       "       'Silk Garments', 'Other Appliances', 'Catheters',\n",
       "       'Chiropody Appliances', 'Contraceptive Devices',\n",
       "       'Suprapubic Appliances', 'Trusses', 'Elastic Hosiery',\n",
       "       'Oxygen Masks', 'Special Sanction Authorisations',\n",
       "       'C.A.P.D. Administration Equipment',\n",
       "       'Special Authorisation Guernsey', 'Peak Flow Meters',\n",
       "       'Catheter Maintenance Products', 'Lubricant Gels',\n",
       "       'Irrigation Solutions', 'Nasal Device',\n",
       "       'Vacuum Pumps for Erectile Dysfunction',\n",
       "       'Oral Film Forming Agents', 'Venous Ulcer Compression System',\n",
       "       'Dry Mouth Products', 'Emollients', 'Vaginal Moisturisers',\n",
       "       'Nasal Products', 'Vaginal Dilators', 'Leg Ulcer Wrap',\n",
       "       'Lymphoedema Garments', 'Anal Irrigation System',\n",
       "       'Pressure Offloading Device', 'Eye Products',\n",
       "       'Cycloidal Vibration Accessories', 'Inhalation Solutions',\n",
       "       'Indwelling Pleural Cath Drain System',\n",
       "       'Vaginal PH Correction Products', 'Acne Treatment',\n",
       "       'Adhesive Dressing Remover Ster Silicone', 'Pelvic Toning Devices',\n",
       "       'Low Friction Products', 'Prosthetic Adhesives',\n",
       "       'Bacterial Decolonisation Products', 'Physical Debridement Device',\n",
       "       'Jaw Rehabilitation Device', 'Micro-Enema - Sodium Citrate',\n",
       "       'Dev For Adjunctive Tt Of Hypertension', 'Douches',\n",
       "       'Hernia Support Garments', 'Dev For Fungal Nail Infections',\n",
       "       'Detection Sensor Interstitial Fluid/Gluc',\n",
       "       'Pulsed Electromagnetic Stimulator', 'Anal Plugs',\n",
       "       'Catheter Valves', 'Drainable Dribbling Appliances',\n",
       "       'Faecal Collectors', 'Incontinence Belts', 'Incontinence Sheaths',\n",
       "       'Incontinence Sheath Fixing Strips & Adh', 'Leg Bags',\n",
       "       'Night Drainage Bags', 'Suspensory Systems',\n",
       "       'Tubing And Accessories', 'Insert For Female Stress Incont',\n",
       "       'Urinal Systems', 'Adhesive Discs/Rings/Pads/Plasters',\n",
       "       'Adhesive (Pastes/Sprays/Solutions)',\n",
       "       'Adhesive Removers (Sprays/Liquids/Wipes)', 'Bag Closures',\n",
       "       'Bag Covers', 'Belts', 'Colostomy Bags', 'Colostomy Sets',\n",
       "       'Deodorants', 'Discharge Solidifying Agents', 'Filters/Bridges',\n",
       "       'Flanges', 'Ileostomy Bags', 'Ileostomy Sets',\n",
       "       'Irrigation Washout Appliances', 'Pressure Plates/Shields',\n",
       "       'Skin Fillers And Protectives', 'Skin Protectors',\n",
       "       'Stoma Caps/Dressings', 'Tubing & Accessories',\n",
       "       'Accessories (Guernsey)', 'Two Piece Ostomy Systems',\n",
       "       'Urostomy Bags', 'Urostomy Sets',\n",
       "       'Ostomy Appliances R/Sub Allowed Pre 1985'], dtype=object)"
      ]
     },
     "execution_count": 19,
     "metadata": {},
     "output_type": "execute_result"
    }
   ],
   "source": [
    "df_bnf['BNF Section'].unique()"
   ]
  },
  {
   "cell_type": "markdown",
   "metadata": {},
   "source": [
    "## BNF Data Conclusion:\n",
    "### This essentially provides a hierarchical categorisation of each specific medication. This will be very useful for aggregations. The 'BNF Presentation Code' is the unique code for each specific medication and corresponds to the 'BNF code' in the Prescription Dataset. The rest of the codes are simply subsets of this unique code and can be dropped.\n",
    "### This tree hierarchy has a variable depth for each drug so not all columns are used. The unused ones have the string 'DUMMY' within them and are essentially null. As can be seen above, there are many rows where the 'Paragraph', 'Subparagraph', 'Chemical Substance', and 'Product' values are null like this.\n",
    "### All 'Chapter' and 'Section' values are non-null. 'Chapter' seems to provide a useful indication of the general category of use and 'Section' provides a indication of the category of drug."
   ]
  },
  {
   "cell_type": "markdown",
   "metadata": {},
   "source": [
    "# Postcode Data"
   ]
  },
  {
   "cell_type": "markdown",
   "metadata": {},
   "source": [
    "This is the one GP practice with a null postcode"
   ]
  },
  {
   "cell_type": "code",
   "execution_count": 20,
   "metadata": {},
   "outputs": [
    {
     "data": {
      "text/html": [
       "<div>\n",
       "<style scoped>\n",
       "    .dataframe tbody tr th:only-of-type {\n",
       "        vertical-align: middle;\n",
       "    }\n",
       "\n",
       "    .dataframe tbody tr th {\n",
       "        vertical-align: top;\n",
       "    }\n",
       "\n",
       "    .dataframe thead th {\n",
       "        text-align: right;\n",
       "    }\n",
       "</style>\n",
       "<table border=\"1\" class=\"dataframe\">\n",
       "  <thead>\n",
       "    <tr style=\"text-align: right;\">\n",
       "      <th></th>\n",
       "      <th>time_period</th>\n",
       "      <th>gp_prac_id</th>\n",
       "      <th>addr1</th>\n",
       "      <th>addr2</th>\n",
       "      <th>addr3</th>\n",
       "      <th>addr4</th>\n",
       "      <th>addr5</th>\n",
       "      <th>postcode</th>\n",
       "    </tr>\n",
       "  </thead>\n",
       "  <tbody>\n",
       "    <tr>\n",
       "      <th>1227</th>\n",
       "      <td>201911</td>\n",
       "      <td>Y06381</td>\n",
       "      <td>COMM NURSING SCAR SOUTH</td>\n",
       "      <td>NaN</td>\n",
       "      <td>NaN</td>\n",
       "      <td>NaN</td>\n",
       "      <td>NaN</td>\n",
       "      <td>NaN</td>\n",
       "    </tr>\n",
       "  </tbody>\n",
       "</table>\n",
       "</div>"
      ],
      "text/plain": [
       "      time_period gp_prac_id                    addr1 addr2 addr3 addr4 addr5  \\\n",
       "1227       201911     Y06381  COMM NURSING SCAR SOUTH   NaN   NaN   NaN   NaN   \n",
       "\n",
       "     postcode  \n",
       "1227      NaN  "
      ]
     },
     "execution_count": 20,
     "metadata": {},
     "output_type": "execute_result"
    }
   ],
   "source": [
    "df_gp_pracs[df_gp_pracs['postcode'].isnull()]"
   ]
  },
  {
   "cell_type": "code",
   "execution_count": 21,
   "metadata": {
    "scrolled": true
   },
   "outputs": [
    {
     "data": {
      "text/plain": [
       "6"
      ]
     },
     "execution_count": 21,
     "metadata": {},
     "output_type": "execute_result"
    }
   ],
   "source": [
    "len(df_pres[df_pres['PRACTICE']=='Y06381'])"
   ]
  },
  {
   "cell_type": "markdown",
   "metadata": {},
   "source": [
    "There are only 6 prescription records this affects so I feel like dropping this from a postcode-dependant visualisation will not through away much information"
   ]
  },
  {
   "cell_type": "code",
   "execution_count": 22,
   "metadata": {
    "scrolled": true
   },
   "outputs": [
    {
     "data": {
      "text/plain": [
       "7345"
      ]
     },
     "execution_count": 22,
     "metadata": {},
     "output_type": "execute_result"
    }
   ],
   "source": [
    "len(postcode_info['postcode_info'])"
   ]
  },
  {
   "cell_type": "markdown",
   "metadata": {},
   "source": [
    "Here is an example of all the location metadata provided by the postcode api for each postcode. Looks very useful!"
   ]
  },
  {
   "cell_type": "code",
   "execution_count": 23,
   "metadata": {},
   "outputs": [
    {
     "data": {
      "text/plain": [
       "{'query': 'WD18 0JP',\n",
       " 'result': {'postcode': 'WD18 0JP',\n",
       "  'quality': 1,\n",
       "  'eastings': 510701,\n",
       "  'northings': 196532,\n",
       "  'country': 'England',\n",
       "  'nhs_ha': 'East of England',\n",
       "  'longitude': -0.401058,\n",
       "  'latitude': 51.656689,\n",
       "  'european_electoral_region': 'Eastern',\n",
       "  'primary_care_trust': 'Hertfordshire',\n",
       "  'region': 'East of England',\n",
       "  'lsoa': 'Watford 009C',\n",
       "  'msoa': 'Watford 009',\n",
       "  'incode': '0JP',\n",
       "  'outcode': 'WD18',\n",
       "  'parliamentary_constituency': 'Watford',\n",
       "  'admin_district': 'Watford',\n",
       "  'parish': 'Watford, unparished area',\n",
       "  'admin_county': 'Hertfordshire',\n",
       "  'admin_ward': 'Central',\n",
       "  'ced': 'Central Watford & Oxhey',\n",
       "  'ccg': 'NHS Herts Valleys',\n",
       "  'nuts': 'Hertfordshire',\n",
       "  'codes': {'admin_district': 'E07000103',\n",
       "   'admin_county': 'E10000015',\n",
       "   'admin_ward': 'E05011047',\n",
       "   'parish': 'E43000082',\n",
       "   'parliamentary_constituency': 'E14001021',\n",
       "   'ccg': 'E38000079',\n",
       "   'ccg_id': '06N',\n",
       "   'ced': 'E58000615',\n",
       "   'nuts': 'UKH23'}}}"
      ]
     },
     "execution_count": 23,
     "metadata": {},
     "output_type": "execute_result"
    }
   ],
   "source": [
    "postcode_info['postcode_info'][0]"
   ]
  },
  {
   "cell_type": "code",
   "execution_count": 30,
   "metadata": {
    "scrolled": true
   },
   "outputs": [],
   "source": [
    "long_ls = []\n",
    "lat_ls = []\n",
    "none_ls = []\n",
    "for i in range(len(postcode_info['postcode_info'])):\n",
    "    long = postcode_info['postcode_info'][i]['result']['longitude']\n",
    "    lat = postcode_info['postcode_info'][i]['result']['latitude']\n",
    "    long_ls.append(long)\n",
    "    lat_ls.append(lat)"
   ]
  },
  {
   "cell_type": "code",
   "execution_count": 31,
   "metadata": {
    "scrolled": true
   },
   "outputs": [
    {
     "data": {
      "text/plain": [
       "7345"
      ]
     },
     "execution_count": 31,
     "metadata": {},
     "output_type": "execute_result"
    }
   ],
   "source": [
    "len(long_ls)"
   ]
  },
  {
   "cell_type": "code",
   "execution_count": 32,
   "metadata": {},
   "outputs": [
    {
     "data": {
      "text/plain": [
       "True"
      ]
     },
     "execution_count": 32,
     "metadata": {},
     "output_type": "execute_result"
    }
   ],
   "source": [
    "len(long_ls) == len(lat_ls)"
   ]
  },
  {
   "cell_type": "code",
   "execution_count": 33,
   "metadata": {},
   "outputs": [
    {
     "data": {
      "text/plain": [
       "0"
      ]
     },
     "execution_count": 33,
     "metadata": {},
     "output_type": "execute_result"
    }
   ],
   "source": [
    "np.isnan(np.array((long_ls))).sum()"
   ]
  },
  {
   "cell_type": "code",
   "execution_count": 34,
   "metadata": {},
   "outputs": [
    {
     "data": {
      "text/plain": [
       "0"
      ]
     },
     "execution_count": 34,
     "metadata": {},
     "output_type": "execute_result"
    }
   ],
   "source": [
    "np.isnan(np.array((lat_ls))).sum()"
   ]
  },
  {
   "cell_type": "markdown",
   "metadata": {},
   "source": [
    "All the postcodes are non-null for all the postcodes in the dataset"
   ]
  },
  {
   "cell_type": "markdown",
   "metadata": {},
   "source": [
    "## Postcode Data Conclusion:\n",
    "### All the postcodes now have a latitude and longitude provided by the api calls. I will also use some of the region names to enrich the data further. "
   ]
  },
  {
   "cell_type": "code",
   "execution_count": null,
   "metadata": {},
   "outputs": [],
   "source": []
  }
 ],
 "metadata": {
  "kernelspec": {
   "display_name": "Python 3",
   "language": "python",
   "name": "python3"
  },
  "language_info": {
   "codemirror_mode": {
    "name": "ipython",
    "version": 3
   },
   "file_extension": ".py",
   "mimetype": "text/x-python",
   "name": "python",
   "nbconvert_exporter": "python",
   "pygments_lexer": "ipython3",
   "version": "3.7.6"
  }
 },
 "nbformat": 4,
 "nbformat_minor": 4
}
